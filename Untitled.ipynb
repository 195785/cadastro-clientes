{
 "cells": [
  {
   "cell_type": "code",
   "execution_count": 17,
   "id": "35f40db7",
   "metadata": {},
   "outputs": [],
   "source": [
    "import sqlite3"
   ]
  },
  {
   "cell_type": "code",
   "execution_count": 18,
   "id": "6047d36c",
   "metadata": {},
   "outputs": [],
   "source": [
    "def criar_tabela_usuarios(cursor):\n",
    "    cursor.execute('''\n",
    "        CREATE TABLE IF NOT EXISTS usuarios (\n",
    "            id INTEGER PRIMARY KEY AUTOINCREMENT,\n",
    "            nome TEXT,\n",
    "            cpf TEXT,\n",
    "            telefone TEXT\n",
    "        )\n",
    "    ''')"
   ]
  },
  {
   "cell_type": "code",
   "execution_count": 19,
   "id": "16a4cedf",
   "metadata": {},
   "outputs": [],
   "source": [
    "def cadastrar_usuario(cursor, nome, cpf, telefone):\n",
    "    cursor.execute('''\n",
    "        INSERT INTO usuarios (nome, cpf, telefone)\n",
    "        VALUES (?, ?, ?)\n",
    "    ''', (nome, cpf, telefone))\n"
   ]
  },
  {
   "cell_type": "code",
   "execution_count": 25,
   "id": "9f5c8a6e",
   "metadata": {},
   "outputs": [],
   "source": [
    "def main():\n",
    "    conexao = sqlite3.connect('usuarios.db')\n",
    "    cursor = conexao.cursor()"
   ]
  },
  {
   "cell_type": "code",
   "execution_count": 26,
   "id": "19dcfd65",
   "metadata": {},
   "outputs": [
    {
     "ename": "IndentationError",
     "evalue": "unexpected indent (3576232238.py, line 2)",
     "output_type": "error",
     "traceback": [
      "\u001b[1;36m  File \u001b[1;32m\"C:\\Users\\psles\\AppData\\Local\\Temp\\ipykernel_20588\\3576232238.py\"\u001b[1;36m, line \u001b[1;32m2\u001b[0m\n\u001b[1;33m    cpf = input(\"Digite o CPF do usuário: \")\u001b[0m\n\u001b[1;37m    ^\u001b[0m\n\u001b[1;31mIndentationError\u001b[0m\u001b[1;31m:\u001b[0m unexpected indent\n"
     ]
    }
   ],
   "source": [
    " nome = input(\"Digite o nome do usuário: \")\n",
    "    cpf = input(\"Digite o CPF do usuário: \")\n",
    "    telefone = input(\"Digite o telefone do usuário: \")"
   ]
  },
  {
   "cell_type": "code",
   "execution_count": null,
   "id": "b66e3a4a",
   "metadata": {},
   "outputs": [],
   "source": [
    " cadastrar_usuario(cursor, nome, cpf, telefone)\n",
    "    print(\"Usuário cadastrado com sucesso!\")"
   ]
  },
  {
   "cell_type": "code",
   "execution_count": null,
   "id": "88c867cc",
   "metadata": {},
   "outputs": [],
   "source": [
    "  conexao.commit()\n",
    "    conexao.close()\n"
   ]
  },
  {
   "cell_type": "code",
   "execution_count": null,
   "id": "97120ab5",
   "metadata": {},
   "outputs": [],
   "source": [
    "if __name__ == \"__main__\":\n",
    "    main()\n"
   ]
  }
 ],
 "metadata": {
  "kernelspec": {
   "display_name": "Python 3 (ipykernel)",
   "language": "python",
   "name": "python3"
  },
  "language_info": {
   "codemirror_mode": {
    "name": "ipython",
    "version": 3
   },
   "file_extension": ".py",
   "mimetype": "text/x-python",
   "name": "python",
   "nbconvert_exporter": "python",
   "pygments_lexer": "ipython3",
   "version": "3.9.13"
  }
 },
 "nbformat": 4,
 "nbformat_minor": 5
}
